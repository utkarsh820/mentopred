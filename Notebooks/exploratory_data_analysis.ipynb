{
 "cells": [
  {
   "cell_type": "markdown",
   "id": "f1a02d2d",
   "metadata": {},
   "source": [
    "<div style=\"\n",
    "    background-color: #1f77b4; \n",
    "    color: white; \n",
    "    padding: 20px; \n",
    "    border-radius: 10px; \n",
    "    text-align: center; \n",
    "    font-family: 'Arial', sans-serif;\n",
    "    box-shadow: 2px 2px 12px rgba(0,0,0,0.3);\n",
    "\">\n",
    "    <h1 style=\"margin: 0; font-size: 36px;\">MENTOPRED</h1>\n",
    "    <p style=\"margin: 5px 0 0; font-size: 18px; color: #dce6f1;\">\n",
    "        Predicting Mental Health Treatment in the Tech Industry\n",
    "    </p>\n",
    "</div>"
   ]
  },
  {
   "cell_type": "markdown",
   "id": "781b748e",
   "metadata": {},
   "source": [
    "# Problem Statement: \n",
    "*In tech workplaces, mental health is increasingly recognized as crucial yet stigmatized. The goal of this Project is to build a model that predicts whether an individual has sought treatment for a mental health condition based on their responses to survey questions about demographics, workplace culture, attitudes, and support systems. The model should be accurate, interpretable, and useful for informing policy or workplace intervention.*"
   ]
  },
  {
   "cell_type": "code",
   "execution_count": null,
   "id": "8be28f88",
   "metadata": {
    "vscode": {
     "languageId": "plaintext"
    }
   },
   "outputs": [],
   "source": []
  }
 ],
 "metadata": {
  "language_info": {
   "name": "python"
  }
 },
 "nbformat": 4,
 "nbformat_minor": 5
}
